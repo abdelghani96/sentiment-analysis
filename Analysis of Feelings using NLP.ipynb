{
 "cells": [
  {
   "cell_type": "markdown",
   "metadata": {},
   "source": [
    "# Description of the project"
   ]
  },
  {
   "cell_type": "markdown",
   "metadata": {},
   "source": [
    "**our project will use the NLP(Natural Processing Language) to find out if a person has a positive or negative emotions using his tweets ,So it's a simple application of data science,but it can be developped using advanced tools of Machine Learning .** <br />**we will extract the feedback of \"yellow vest strick\"**"
   ]
  },
  {
   "cell_type": "markdown",
   "metadata": {},
   "source": [
    "# Introduction"
   ]
  },
  {
   "cell_type": "markdown",
   "metadata": {},
   "source": [
    "Twitter (www.twitter.com) have evolved to become a great\n",
    "source of various kinds of information. This is due to the nature of microblogs on which people\n",
    "post real-time messages regarding their opinions on a variety of topics, discuss current issues,\n",
    "complain, and express many kinds of emotions. \n",
    "Current sentiment analysis methods typically focus on the polarity of like/dislike emotions.\n",
    "Sometimes neutral emotions can be detected in between. Human emotions are far beyond these\n",
    "simple metrics and are much more diverse. This implies that such polarity analysis gives only\n",
    "limited information on the actual intent of the author of the message. Defining either positive\n",
    "or negative emotions only is relatively simple, yet defining a complete and clear set of emotions\n",
    "is much more difficult. Researchers have thus created a wide range of research tools on the\n",
    "identification of basic emotions.\n"
   ]
  },
  {
   "cell_type": "markdown",
   "metadata": {},
   "source": [
    "### import the necessary libraries "
   ]
  },
  {
   "cell_type": "code",
   "execution_count": 1,
   "metadata": {},
   "outputs": [],
   "source": [
    "# tweepy supports accessing Twitter via Basic Authentication\n",
    "\n",
    "from tweepy import API # special for the APIs twitter\n",
    "from tweepy import Cursor # Cursor used to extract user tweets on timeline\n",
    "from tweepy.streaming import StreamListener # StreamListener used to process live tweets.\n",
    "from tweepy import OAuthHandler # OAuthHandler used to intercat with tweets using the user credentials\n",
    "from tweepy import Stream \n",
    "#text used to processing textual data. It provides a simple API for diving into common natural language processing (NLP) .\n",
    "from textblob import TextBlob\n",
    " \n",
    "\n",
    "import matplotlib.pyplot as plt\n",
    "import numpy as np\n",
    "import pandas as pd\n",
    "import re # re used to split a stream of text into smaller units called tokens, usually words or phrases"
   ]
  },
  {
   "cell_type": "markdown",
   "metadata": {},
   "source": [
    "to use the APIs we need to create an application on twitter because Twitter provides REST APIs you can use to interact with their service and some useful data from it,<br /> **Steps**<br /> log-in to Twitter (if you’re not already logged in) and register a new application. You can now choose a name and a description for your app (for example “Mining data” or similar). You will receive a **consumer key** and a **consumer secret**: these are application settings that should always be kept private. From the configuration page of your app, you can also require an **access token** and an **access token secret**. Similarly to the consumer keys, these strings must also be kept private: they provide the application access to Twitter on behalf of your account."
   ]
  },
  {
   "cell_type": "code",
   "execution_count": 2,
   "metadata": {},
   "outputs": [],
   "source": [
    "# Variables that contains the user credentials to access Twitter API \n",
    "ACCESS_TOKEN = \"YOUR_ACCESS_TOKEN\"\n",
    "ACCESS_TOKEN_SECRET = \"YOUR_ACCESS_TOKEN_SECRET\"\n",
    "CONSUMER_KEY = \"YOUR_CONSUMER_KEY\"\n",
    "CONSUMER_SECRET = \"YOUR_CONSUMER_SECRET\"\n",
    " "
   ]
  },
  {
   "cell_type": "markdown",
   "metadata": {},
   "source": [
    "### Create Class Twitter Client\n"
   ]
  },
  {
   "cell_type": "markdown",
   "metadata": {},
   "source": [
    "the class will be used to get information about any well known user of twitter (timeline_ tweets, freinds etc)"
   ]
  },
  {
   "cell_type": "code",
   "execution_count": 3,
   "metadata": {},
   "outputs": [],
   "source": [
    "class TwitterClient():\n",
    "    def __init__(self, twitter_user=None):\n",
    "        self.auth = TwitterAuthenticator().authenticate_twitter_app()\n",
    "        self.twitter_client = API(self.auth)\n",
    "\n",
    "        self.twitter_user = twitter_user\n",
    "\n",
    "    def get_twitter_client_api(self):\n",
    "        return self.twitter_client\n",
    "\n",
    "    def get_user_timeline_tweets(self, num_tweets):\n",
    "        tweets = []\n",
    "        for tweet in Cursor(self.twitter_client.user_timeline, id=self.twitter_user).items(num_tweets):\n",
    "            tweets.append(tweet)\n",
    "        return tweets\n",
    "\n",
    "    def get_friend_list(self, num_friends):\n",
    "        friend_list = []\n",
    "        for friend in Cursor(self.twitter_client.friends, id=self.twitter_user).items(num_friends):\n",
    "            friend_list.append(friend)\n",
    "        return friend_list\n",
    "\n",
    "    def get_home_timeline_tweets(self, num_tweets):\n",
    "        home_timeline_tweets = []\n",
    "        for tweet in Cursor(self.twitter_client.home_timeline, id=self.twitter_user).items(num_tweets):\n",
    "            home_timeline_tweets.append(tweet)\n",
    "        return home_timeline_tweets"
   ]
  },
  {
   "cell_type": "markdown",
   "metadata": {},
   "source": [
    "### Create Class Twitter Authenticator"
   ]
  },
  {
   "cell_type": "markdown",
   "metadata": {},
   "source": [
    "the class use the user credentials to access Twitter API "
   ]
  },
  {
   "cell_type": "code",
   "execution_count": 4,
   "metadata": {},
   "outputs": [],
   "source": [
    "class TwitterAuthenticator():\n",
    "\n",
    "    def authenticate_twitter_app(self):\n",
    "        auth = OAuthHandler(CONSUMER_KEY, CONSUMER_SECRET)\n",
    "        auth.set_access_token(ACCESS_TOKEN, ACCESS_TOKEN_SECRET)\n",
    "        return auth"
   ]
  },
  {
   "cell_type": "markdown",
   "metadata": {},
   "source": [
    "\n",
    "\n",
    "### Create Class Twitter Streamer"
   ]
  },
  {
   "cell_type": "markdown",
   "metadata": {},
   "source": [
    "this Class to Handle data received from the stream.\n"
   ]
  },
  {
   "cell_type": "code",
   "execution_count": 5,
   "metadata": {},
   "outputs": [],
   "source": [
    "class TwitterStreamer():\n",
    "    def __init__(self):\n",
    "        self.twitter_autenticator = TwitterAuthenticator()    \n",
    "\n",
    "    def stream_tweets(self, fetched_tweets_filename, hash_tag_list):\n",
    "        # This handles Twitter authetification and the connection to Twitter Streaming API\n",
    "        listener = TwitterListener(fetched_tweets_filename)\n",
    "        auth = self.twitter_autenticator.authenticate_twitter_app() \n",
    "        stream = Stream(auth, listener)\n",
    "\n",
    "        # This line filter Twitter Streams to capture data by the keywords: \n",
    "        stream.filter(track=hash_tag_list)"
   ]
  },
  {
   "cell_type": "markdown",
   "metadata": {},
   "source": [
    "### Create Class Twitter Listener"
   ]
  },
  {
   "cell_type": "markdown",
   "metadata": {},
   "source": [
    "This is a basic listener that just prints received tweets to stdout.\n"
   ]
  },
  {
   "cell_type": "code",
   "execution_count": 6,
   "metadata": {},
   "outputs": [],
   "source": [
    "class TwitterListener(StreamListener):\n",
    "    \n",
    "    def __init__(self, fetched_tweets_filename):\n",
    "        self.fetched_tweets_filename = fetched_tweets_filename\n",
    "\n",
    "    def on_data(self, data):\n",
    "        try:\n",
    "            with open('tweets_gilet_jaune.json', 'a') as f:\n",
    "                f.write(data)\n",
    "                return True\n",
    "        except BaseException as e:\n",
    "            print(\"Error on_data: %s\" % str(e))\n",
    "        return True\n",
    " \n",
    "    def on_error(self, status):\n",
    "        if status == 420:\n",
    "             print(status)\n",
    "        return True\n"
   ]
  },
  {
   "cell_type": "markdown",
   "metadata": {},
   "source": [
    "### Create Tweet Analyzer"
   ]
  },
  {
   "cell_type": "markdown",
   "metadata": {},
   "source": [
    "Functionality for analyzing and categorizing content from tweets.\n"
   ]
  },
  {
   "cell_type": "code",
   "execution_count": 7,
   "metadata": {},
   "outputs": [],
   "source": [
    "class TweetAnalyzer():\n",
    "\n",
    "\n",
    "    def clean_tweet(self, tweet):\n",
    "        return ' '.join(re.sub(\"(@[A-Za-z0-9]+)|([^0-9A-Za-z \\t])|(\\w+:\\/\\/\\S+)\", \" \", tweet).split())\n",
    "\n",
    "    def analyze_sentiment(self, tweet):\n",
    "        analysis = TextBlob(self.clean_tweet(tweet))\n",
    "        # if the tweet is good retrun 1\n",
    "        # if the tweet is neutral return 0\n",
    "        # if the tweet \n",
    "        if analysis.sentiment.polarity > 0:\n",
    "            return 1\n",
    "        elif analysis.sentiment.polarity == 0:\n",
    "            return 0\n",
    "        else:\n",
    "            return -1\n",
    "\n",
    "    def tweets_to_data_frame(self, tweets):\n",
    "        df = pd.DataFrame(data=[tweet.text for tweet in tweets], columns=['tweets'])\n",
    "\n",
    "        df['id'] = np.array([tweet.id for tweet in tweets])\n",
    "        df['len'] = np.array([len(tweet.text) for tweet in tweets])\n",
    "        df['date'] = np.array([tweet.created_at for tweet in tweets])\n",
    "        df['source'] = np.array([tweet.source for tweet in tweets])\n",
    "        df['likes'] = np.array([tweet.favorite_count for tweet in tweets])\n",
    "        df['retweets'] = np.array([tweet.retweet_count for tweet in tweets])\n",
    "\n",
    "        return df\n"
   ]
  },
  {
   "cell_type": "markdown",
   "metadata": {},
   "source": [
    "### Put it together"
   ]
  },
  {
   "cell_type": "code",
   "execution_count": 21,
   "metadata": {},
   "outputs": [
    {
     "data": {
      "text/html": [
       "<div>\n",
       "<style scoped>\n",
       "    .dataframe tbody tr th:only-of-type {\n",
       "        vertical-align: middle;\n",
       "    }\n",
       "\n",
       "    .dataframe tbody tr th {\n",
       "        vertical-align: top;\n",
       "    }\n",
       "\n",
       "    .dataframe thead th {\n",
       "        text-align: right;\n",
       "    }\n",
       "</style>\n",
       "<table border=\"1\" class=\"dataframe\">\n",
       "  <thead>\n",
       "    <tr style=\"text-align: right;\">\n",
       "      <th></th>\n",
       "      <th>tweets</th>\n",
       "      <th>id</th>\n",
       "      <th>len</th>\n",
       "      <th>date</th>\n",
       "      <th>source</th>\n",
       "      <th>likes</th>\n",
       "      <th>retweets</th>\n",
       "      <th>sentiment</th>\n",
       "    </tr>\n",
       "  </thead>\n",
       "  <tbody>\n",
       "    <tr>\n",
       "      <th>0</th>\n",
       "      <td>RT @DisparatePost: TAX on a TAX! Yes. You read...</td>\n",
       "      <td>1073859512443043841</td>\n",
       "      <td>139</td>\n",
       "      <td>2018-12-15 08:37:13</td>\n",
       "      <td>Twitter Web Client</td>\n",
       "      <td>0</td>\n",
       "      <td>23</td>\n",
       "      <td>-1</td>\n",
       "    </tr>\n",
       "    <tr>\n",
       "      <th>1</th>\n",
       "      <td>RT @caulmick: Direland \\n\\nSheltered area outs...</td>\n",
       "      <td>1073859232632659969</td>\n",
       "      <td>139</td>\n",
       "      <td>2018-12-15 08:36:07</td>\n",
       "      <td>Twitter Web Client</td>\n",
       "      <td>0</td>\n",
       "      <td>29</td>\n",
       "      <td>-1</td>\n",
       "    </tr>\n",
       "    <tr>\n",
       "      <th>2</th>\n",
       "      <td>RT @caulmick: Simon Harris has been accused of...</td>\n",
       "      <td>1073859176013721600</td>\n",
       "      <td>140</td>\n",
       "      <td>2018-12-15 08:35:53</td>\n",
       "      <td>Twitter Web Client</td>\n",
       "      <td>0</td>\n",
       "      <td>5</td>\n",
       "      <td>0</td>\n",
       "    </tr>\n",
       "    <tr>\n",
       "      <th>3</th>\n",
       "      <td>RT @caulmick: Almost eight years of Fine Gael ...</td>\n",
       "      <td>1073859114982404096</td>\n",
       "      <td>140</td>\n",
       "      <td>2018-12-15 08:35:39</td>\n",
       "      <td>Twitter Web Client</td>\n",
       "      <td>0</td>\n",
       "      <td>11</td>\n",
       "      <td>-1</td>\n",
       "    </tr>\n",
       "    <tr>\n",
       "      <th>4</th>\n",
       "      <td>RT @caulmick: THOUSANDS OF FRANCE’S #YellowVes...</td>\n",
       "      <td>1073858928482680832</td>\n",
       "      <td>140</td>\n",
       "      <td>2018-12-15 08:34:54</td>\n",
       "      <td>Twitter Web Client</td>\n",
       "      <td>0</td>\n",
       "      <td>10</td>\n",
       "      <td>0</td>\n",
       "    </tr>\n",
       "    <tr>\n",
       "      <th>5</th>\n",
       "      <td>RT @Trickstersworld: Local Authorities in Dubl...</td>\n",
       "      <td>1073858744935698432</td>\n",
       "      <td>140</td>\n",
       "      <td>2018-12-15 08:34:10</td>\n",
       "      <td>Twitter Web Client</td>\n",
       "      <td>0</td>\n",
       "      <td>5</td>\n",
       "      <td>1</td>\n",
       "    </tr>\n",
       "    <tr>\n",
       "      <th>6</th>\n",
       "      <td>RT @chezmik: 'I felt so low, so useless': Meat...</td>\n",
       "      <td>1073855101754859521</td>\n",
       "      <td>133</td>\n",
       "      <td>2018-12-15 08:19:42</td>\n",
       "      <td>Twitter Web Client</td>\n",
       "      <td>0</td>\n",
       "      <td>6</td>\n",
       "      <td>0</td>\n",
       "    </tr>\n",
       "    <tr>\n",
       "      <th>7</th>\n",
       "      <td>RT @silenced_wont: How much did this cost me i...</td>\n",
       "      <td>1073854311413755905</td>\n",
       "      <td>140</td>\n",
       "      <td>2018-12-15 08:16:33</td>\n",
       "      <td>Twitter Web Client</td>\n",
       "      <td>0</td>\n",
       "      <td>3</td>\n",
       "      <td>-1</td>\n",
       "    </tr>\n",
       "    <tr>\n",
       "      <th>8</th>\n",
       "      <td>Solidarity comrades!!! #IStandWithTheToryMPStr...</td>\n",
       "      <td>1073853701486460929</td>\n",
       "      <td>79</td>\n",
       "      <td>2018-12-15 08:14:08</td>\n",
       "      <td>Twitter Web Client</td>\n",
       "      <td>0</td>\n",
       "      <td>0</td>\n",
       "      <td>0</td>\n",
       "    </tr>\n",
       "    <tr>\n",
       "      <th>9</th>\n",
       "      <td>RT @caulmick: Social devastation here in Irela...</td>\n",
       "      <td>1073716895243747329</td>\n",
       "      <td>140</td>\n",
       "      <td>2018-12-14 23:10:31</td>\n",
       "      <td>Twitter Web Client</td>\n",
       "      <td>0</td>\n",
       "      <td>159</td>\n",
       "      <td>-1</td>\n",
       "    </tr>\n",
       "  </tbody>\n",
       "</table>\n",
       "</div>"
      ],
      "text/plain": [
       "                                              tweets                   id  \\\n",
       "0  RT @DisparatePost: TAX on a TAX! Yes. You read...  1073859512443043841   \n",
       "1  RT @caulmick: Direland \\n\\nSheltered area outs...  1073859232632659969   \n",
       "2  RT @caulmick: Simon Harris has been accused of...  1073859176013721600   \n",
       "3  RT @caulmick: Almost eight years of Fine Gael ...  1073859114982404096   \n",
       "4  RT @caulmick: THOUSANDS OF FRANCE’S #YellowVes...  1073858928482680832   \n",
       "5  RT @Trickstersworld: Local Authorities in Dubl...  1073858744935698432   \n",
       "6  RT @chezmik: 'I felt so low, so useless': Meat...  1073855101754859521   \n",
       "7  RT @silenced_wont: How much did this cost me i...  1073854311413755905   \n",
       "8  Solidarity comrades!!! #IStandWithTheToryMPStr...  1073853701486460929   \n",
       "9  RT @caulmick: Social devastation here in Irela...  1073716895243747329   \n",
       "\n",
       "   len                date              source  likes  retweets  sentiment  \n",
       "0  139 2018-12-15 08:37:13  Twitter Web Client      0        23         -1  \n",
       "1  139 2018-12-15 08:36:07  Twitter Web Client      0        29         -1  \n",
       "2  140 2018-12-15 08:35:53  Twitter Web Client      0         5          0  \n",
       "3  140 2018-12-15 08:35:39  Twitter Web Client      0        11         -1  \n",
       "4  140 2018-12-15 08:34:54  Twitter Web Client      0        10          0  \n",
       "5  140 2018-12-15 08:34:10  Twitter Web Client      0         5          1  \n",
       "6  133 2018-12-15 08:19:42  Twitter Web Client      0         6          0  \n",
       "7  140 2018-12-15 08:16:33  Twitter Web Client      0         3         -1  \n",
       "8   79 2018-12-15 08:14:08  Twitter Web Client      0         0          0  \n",
       "9  140 2018-12-14 23:10:31  Twitter Web Client      0       159         -1  "
      ]
     },
     "execution_count": 21,
     "metadata": {},
     "output_type": "execute_result"
    }
   ],
   "source": [
    "if __name__ == '__main__':\n",
    "\n",
    "    twitter_client = TwitterClient()\n",
    "    tweet_analyzer = TweetAnalyzer()\n",
    "\n",
    "    api = twitter_client.get_twitter_client_api()\n",
    "\n",
    "    tweets = api.user_timeline(screen_name=\"appropriateabby\", count=200)\n",
    "\n",
    "    df = tweet_analyzer.tweets_to_data_frame(tweets)\n",
    "    # create the column which contains our analysis of sentiments\n",
    "    df['sentiment'] = np.array([tweet_analyzer.analyze_sentiment(tweet) for tweet in df['tweets']])\n",
    "# print the first ten tweets \n",
    "df.head(10)"
   ]
  },
  {
   "cell_type": "markdown",
   "metadata": {},
   "source": [
    "### Visualisation of Analysis\n"
   ]
  },
  {
   "cell_type": "markdown",
   "metadata": {},
   "source": [
    "#### the number of likes between the date (2018-12-12 13:14:17 and 2018-12-15 08:37:13) 3 days"
   ]
  },
  {
   "cell_type": "code",
   "execution_count": 23,
   "metadata": {},
   "outputs": [
    {
     "data": {
      "text/plain": [
       "<matplotlib.axes._subplots.AxesSubplot at 0xe258b70>"
      ]
     },
     "execution_count": 23,
     "metadata": {},
     "output_type": "execute_result"
    },
    {
     "data": {
      "image/png": "[encoded data removed]",
      "text/plain": [
       "<Figure size 1152x288 with 1 Axes>"
      ]
     },
     "metadata": {},
     "output_type": "display_data"
    }
   ],
   "source": [
    "import seaborn\n",
    "seaborn.set()\n",
    "#Layered Time Series:\n",
    "time_likes = pd.Series(data=df['likes'].values, index=df['date'])\n",
    "time_likes.plot(figsize=(16, 4), label=\"likes\", legend=True)\n"
   ]
  },
  {
   "cell_type": "markdown",
   "metadata": {},
   "source": [
    "we see that the are some increases and decreases of retweets and the hightest number of retweets was 6 at the date 12-14-09"
   ]
  },
  {
   "cell_type": "markdown",
   "metadata": {},
   "source": [
    "#### the number of retweets between the date (2018-12-12 13:14:17 and 2018-12-15 08:37:13) 3 days"
   ]
  },
  {
   "cell_type": "code",
   "execution_count": 24,
   "metadata": {},
   "outputs": [
    {
     "data": {
      "text/plain": [
       "<matplotlib.axes._subplots.AxesSubplot at 0xc4206a0>"
      ]
     },
     "execution_count": 24,
     "metadata": {},
     "output_type": "execute_result"
    },
    {
     "data": {
      "image/png": "[encoded data removed]",
      "text/plain": [
       "<Figure size 1152x288 with 1 Axes>"
      ]
     },
     "metadata": {},
     "output_type": "display_data"
    }
   ],
   "source": [
    "time_retweets = pd.Series(data=df['retweets'].values, index=df['date'])\n",
    "time_retweets.plot(figsize=(16, 4), label=\"retweets\", legend=True)"
   ]
  },
  {
   "cell_type": "markdown",
   "metadata": {},
   "source": [
    "we see that the number increase at the date 12-13-07 "
   ]
  },
  {
   "cell_type": "code",
   "execution_count": 41,
   "metadata": {},
   "outputs": [
    {
     "data": {
      "image/png": "[encoded data removed]",
      "text/plain": [
       "<Figure size 432x288 with 1 Axes>"
      ]
     },
     "metadata": {},
     "output_type": "display_data"
    }
   ],
   "source": [
    "time_likes = pd.Series(data=df['sentiment'].values, index=df['date'])\n",
    "time_likes.plot(kind=\"hist\", label=\"sentiment\", title=\"the sentiments of users about yellow vest strike\" , legend=True)\n",
    "plt.show()"
   ]
  },
  {
   "cell_type": "markdown",
   "metadata": {},
   "source": [
    "we see that most of user's are neutral maybe because our analysis comes after that the strike was broken,but the number of 1 is more than the number of -1, so we can say that almost of people have a positive impact of the strike of yellow vest, and the strike was successful."
   ]
  }
 ],
 "metadata": {
  "kernelspec": {
   "display_name": "Python 3",
   "language": "python",
   "name": "python3"
  },
  "language_info": {
   "codemirror_mode": {
    "name": "ipython",
    "version": 3
   },
   "file_extension": ".py",
   "mimetype": "text/x-python",
   "name": "python",
   "nbconvert_exporter": "python",
   "pygments_lexer": "ipython3",
   "version": "3.6.5"
  }
 },
 "nbformat": 4,
 "nbformat_minor": 2
}
